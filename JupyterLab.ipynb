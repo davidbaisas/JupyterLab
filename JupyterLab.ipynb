{
 "cells": [
  {
   "cell_type": "code",
   "execution_count": null,
   "metadata": {},
   "outputs": [],
   "source": [
    "print('Hello World')"
   ]
  },
  {
   "cell_type": "code",
   "execution_count": 2,
   "metadata": {},
   "outputs": [],
   "source": [
    "import matplotlib.pyplot as plt\n",
    "import pandas as pd\n",
    "import numpy as np"
   ]
  },
  {
   "cell_type": "code",
   "execution_count": 3,
   "metadata": {},
   "outputs": [],
   "source": [
    "nums = np.random.default_rng()\n",
    "\n",
    "num_list = nums.integers(low = 0, high = 100, size = 100)"
   ]
  },
  {
   "cell_type": "code",
   "execution_count": 4,
   "metadata": {},
   "outputs": [],
   "source": [
    "rng = np.random.default_rng()\n",
    "n, p = 10, .5\n",
    "s = rng.binomial(n, p, 1000)"
   ]
  },
  {
   "cell_type": "code",
   "execution_count": 5,
   "metadata": {},
   "outputs": [
    {
     "data": {
      "text/plain": [
       "(array([  3.,  11.,  40., 121., 195., 250., 207., 114.,  49.,  10.]),\n",
       " array([ 0.,  1.,  2.,  3.,  4.,  5.,  6.,  7.,  8.,  9., 10.]),\n",
       " <BarContainer object of 10 artists>)"
      ]
     },
     "execution_count": 5,
     "metadata": {},
     "output_type": "execute_result"
    },
    {
     "data": {
      "image/png": "[encoded data removed]",
      "text/plain": [
       "<Figure size 432x288 with 1 Axes>"
      ]
     },
     "metadata": {
      "needs_background": "light"
     },
     "output_type": "display_data"
    }
   ],
   "source": [
    "plt.hist(s)"
   ]
  },
  {
   "cell_type": "code",
   "execution_count": 6,
   "metadata": {},
   "outputs": [],
   "source": [
    "rng = np.random.default_rng()\n",
    "s = rng.poisson(size = 1000)"
   ]
  },
  {
   "cell_type": "code",
   "execution_count": 7,
   "metadata": {},
   "outputs": [
    {
     "data": {
      "text/plain": [
       "(array([371.,   0., 368.,   0., 192.,   0.,  53.,   0.,  13.,   3.]),\n",
       " array([0. , 0.5, 1. , 1.5, 2. , 2.5, 3. , 3.5, 4. , 4.5, 5. ]),\n",
       " <BarContainer object of 10 artists>)"
      ]
     },
     "execution_count": 7,
     "metadata": {},
     "output_type": "execute_result"
    },
    {
     "data": {
      "image/png": "[encoded data removed]",
      "text/plain": [
       "<Figure size 432x288 with 1 Axes>"
      ]
     },
     "metadata": {
      "needs_background": "light"
     },
     "output_type": "display_data"
    }
   ],
   "source": [
    "plt.hist(s)"
   ]
  },
  {
   "cell_type": "code",
   "execution_count": 8,
   "metadata": {},
   "outputs": [],
   "source": [
    "rng = np.random.default_rng()\n",
    "ss = rng.normal(size = 1000)"
   ]
  },
  {
   "cell_type": "code",
   "execution_count": 9,
   "metadata": {},
   "outputs": [
    {
     "data": {
      "text/plain": [
       "(array([  5.,  23.,  86., 194., 248., 225., 145.,  60.,   9.,   5.]),\n",
       " array([-3.27165917, -2.5878285 , -1.90399783, -1.22016715, -0.53633648,\n",
       "         0.14749419,  0.83132486,  1.51515553,  2.19898621,  2.88281688,\n",
       "         3.56664755]),\n",
       " <BarContainer object of 10 artists>)"
      ]
     },
     "execution_count": 9,
     "metadata": {},
     "output_type": "execute_result"
    },
    {
     "data": {
      "image/png": "[encoded data removed]",
      "text/plain": [
       "<Figure size 432x288 with 1 Axes>"
      ]
     },
     "metadata": {
      "needs_background": "light"
     },
     "output_type": "display_data"
    }
   ],
   "source": [
    "plt.hist(ss)"
   ]
  },
  {
   "cell_type": "code",
   "execution_count": 10,
   "metadata": {},
   "outputs": [],
   "source": [
    "rng = np.random.default_rng()\n",
    "s = rng.uniform(size = 1000)"
   ]
  },
  {
   "cell_type": "code",
   "execution_count": 11,
   "metadata": {},
   "outputs": [
    {
     "data": {
      "text/plain": [
       "(array([ 98.,  97., 100., 108.,  97., 116.,  96., 101., 102.,  85.]),\n",
       " array([4.37697705e-04, 1.00339899e-01, 2.00242101e-01, 3.00144303e-01,\n",
       "        4.00046505e-01, 4.99948707e-01, 5.99850908e-01, 6.99753110e-01,\n",
       "        7.99655312e-01, 8.99557514e-01, 9.99459715e-01]),\n",
       " <BarContainer object of 10 artists>)"
      ]
     },
     "execution_count": 11,
     "metadata": {},
     "output_type": "execute_result"
    },
    {
     "data": {
      "image/png": "[encoded data removed]",
      "text/plain": [
       "<Figure size 432x288 with 1 Axes>"
      ]
     },
     "metadata": {
      "needs_background": "light"
     },
     "output_type": "display_data"
    }
   ],
   "source": [
    "plt.hist(s)"
   ]
  },
  {
   "cell_type": "code",
   "execution_count": 12,
   "metadata": {},
   "outputs": [],
   "source": [
    "rng = np.random.default_rng()\n",
    "s = rng.chisquare(df = 4, size = 1000)"
   ]
  },
  {
   "cell_type": "code",
   "execution_count": 13,
   "metadata": {},
   "outputs": [
    {
     "data": {
      "text/plain": [
       "(array([300., 341., 194.,  92.,  42.,  21.,   6.,   0.,   3.,   1.]),\n",
       " array([ 0.05202184,  2.1586581 ,  4.26529437,  6.37193064,  8.4785669 ,\n",
       "        10.58520317, 12.69183944, 14.79847571, 16.90511197, 19.01174824,\n",
       "        21.11838451]),\n",
       " <BarContainer object of 10 artists>)"
      ]
     },
     "execution_count": 13,
     "metadata": {},
     "output_type": "execute_result"
    },
    {
     "data": {
      "image/png": "[encoded data removed]",
      "text/plain": [
       "<Figure size 432x288 with 1 Axes>"
      ]
     },
     "metadata": {
      "needs_background": "light"
     },
     "output_type": "display_data"
    }
   ],
   "source": [
    "plt.hist(s)"
   ]
  },
  {
   "cell_type": "code",
   "execution_count": 15,
   "metadata": {},
   "outputs": [],
   "source": [
    "file = open('2023-06-13-survey.csv')"
   ]
  },
  {
   "cell_type": "code",
   "execution_count": 31,
   "metadata": {},
   "outputs": [
    {
     "data": {
      "text/html": [
       "<div>\n",
       "<style scoped>\n",
       "    .dataframe tbody tr th:only-of-type {\n",
       "        vertical-align: middle;\n",
       "    }\n",
       "\n",
       "    .dataframe tbody tr th {\n",
       "        vertical-align: top;\n",
       "    }\n",
       "\n",
       "    .dataframe thead th {\n",
       "        text-align: right;\n",
       "    }\n",
       "</style>\n",
       "<table border=\"1\" class=\"dataframe\">\n",
       "  <thead>\n",
       "    <tr style=\"text-align: right;\">\n",
       "      <th></th>\n",
       "      <th>Timestamp</th>\n",
       "      <th>Operating System</th>\n",
       "      <th>CPU Cycle Rate (in GHz)</th>\n",
       "      <th>CPU Number of Cores (int)</th>\n",
       "      <th>RAM (in GB)</th>\n",
       "      <th>Hard Drive Size (in GB)</th>\n",
       "      <th>GPU (short description as a string)</th>\n",
       "      <th>GPU CUDA Number of Cores (int)</th>\n",
       "    </tr>\n",
       "  </thead>\n",
       "  <tbody>\n",
       "    <tr>\n",
       "      <th>0</th>\n",
       "      <td>6/13/2023 13:21:08</td>\n",
       "      <td>Windows</td>\n",
       "      <td>3.0</td>\n",
       "      <td>8</td>\n",
       "      <td>16</td>\n",
       "      <td>935</td>\n",
       "      <td>NVIDIA GeForce RTX 2060 with Max-Q Design</td>\n",
       "      <td>5888</td>\n",
       "    </tr>\n",
       "    <tr>\n",
       "      <th>1</th>\n",
       "      <td>6/13/2023 13:23:33</td>\n",
       "      <td>I use Mac and Linux</td>\n",
       "      <td>2133.0</td>\n",
       "      <td>2</td>\n",
       "      <td>8</td>\n",
       "      <td>250</td>\n",
       "      <td>Intel Iris Plus Graphics</td>\n",
       "      <td>1</td>\n",
       "    </tr>\n",
       "    <tr>\n",
       "      <th>2</th>\n",
       "      <td>6/13/2023 13:24:29</td>\n",
       "      <td>MacOS</td>\n",
       "      <td>3.2</td>\n",
       "      <td>8</td>\n",
       "      <td>8</td>\n",
       "      <td>256</td>\n",
       "      <td>M1</td>\n",
       "      <td>8</td>\n",
       "    </tr>\n",
       "    <tr>\n",
       "      <th>3</th>\n",
       "      <td>6/13/2023 13:25:04</td>\n",
       "      <td>MacOS</td>\n",
       "      <td>3.6</td>\n",
       "      <td>12</td>\n",
       "      <td>32</td>\n",
       "      <td>1000</td>\n",
       "      <td>M2 Max</td>\n",
       "      <td>38</td>\n",
       "    </tr>\n",
       "    <tr>\n",
       "      <th>4</th>\n",
       "      <td>6/13/2023 13:25:31</td>\n",
       "      <td>Windows</td>\n",
       "      <td>2.3</td>\n",
       "      <td>8</td>\n",
       "      <td>16</td>\n",
       "      <td>500</td>\n",
       "      <td>NVIDIA GeForce RTX 3050 Ti Laptop GPU</td>\n",
       "      <td>2560</td>\n",
       "    </tr>\n",
       "    <tr>\n",
       "      <th>...</th>\n",
       "      <td>...</td>\n",
       "      <td>...</td>\n",
       "      <td>...</td>\n",
       "      <td>...</td>\n",
       "      <td>...</td>\n",
       "      <td>...</td>\n",
       "      <td>...</td>\n",
       "      <td>...</td>\n",
       "    </tr>\n",
       "    <tr>\n",
       "      <th>57</th>\n",
       "      <td>6/13/2023 13:45:40</td>\n",
       "      <td>Windows</td>\n",
       "      <td>2.5</td>\n",
       "      <td>2</td>\n",
       "      <td>8</td>\n",
       "      <td>237</td>\n",
       "      <td>Intel(R) HD Graphics 620</td>\n",
       "      <td>0</td>\n",
       "    </tr>\n",
       "    <tr>\n",
       "      <th>58</th>\n",
       "      <td>6/13/2023 13:45:42</td>\n",
       "      <td>MacOS</td>\n",
       "      <td>2.3</td>\n",
       "      <td>2</td>\n",
       "      <td>8</td>\n",
       "      <td>256</td>\n",
       "      <td>M2 integrates an Apple designed ten-core (eigh...</td>\n",
       "      <td>0</td>\n",
       "    </tr>\n",
       "    <tr>\n",
       "      <th>59</th>\n",
       "      <td>6/13/2023 13:47:42</td>\n",
       "      <td>MacOS</td>\n",
       "      <td>2.3</td>\n",
       "      <td>2</td>\n",
       "      <td>8</td>\n",
       "      <td>500</td>\n",
       "      <td>Integrated Graphics</td>\n",
       "      <td>0</td>\n",
       "    </tr>\n",
       "    <tr>\n",
       "      <th>60</th>\n",
       "      <td>6/13/2023 13:49:17</td>\n",
       "      <td>Windows</td>\n",
       "      <td>1.8</td>\n",
       "      <td>5</td>\n",
       "      <td>8</td>\n",
       "      <td>224</td>\n",
       "      <td>Zero point two out of three point nine</td>\n",
       "      <td>5</td>\n",
       "    </tr>\n",
       "    <tr>\n",
       "      <th>61</th>\n",
       "      <td>6/13/2023 13:52:52</td>\n",
       "      <td>MacOS</td>\n",
       "      <td>2.3</td>\n",
       "      <td>2</td>\n",
       "      <td>8</td>\n",
       "      <td>250</td>\n",
       "      <td>Intel Iris Plus Graphics 640</td>\n",
       "      <td>0</td>\n",
       "    </tr>\n",
       "  </tbody>\n",
       "</table>\n",
       "<p>62 rows × 8 columns</p>\n",
       "</div>"
      ],
      "text/plain": [
       "             Timestamp     Operating System  CPU Cycle Rate (in GHz)  \\\n",
       "0   6/13/2023 13:21:08              Windows                      3.0   \n",
       "1   6/13/2023 13:23:33  I use Mac and Linux                   2133.0   \n",
       "2   6/13/2023 13:24:29                MacOS                      3.2   \n",
       "3   6/13/2023 13:25:04                MacOS                      3.6   \n",
       "4   6/13/2023 13:25:31              Windows                      2.3   \n",
       "..                 ...                  ...                      ...   \n",
       "57  6/13/2023 13:45:40              Windows                      2.5   \n",
       "58  6/13/2023 13:45:42                MacOS                      2.3   \n",
       "59  6/13/2023 13:47:42                MacOS                      2.3   \n",
       "60  6/13/2023 13:49:17              Windows                      1.8   \n",
       "61  6/13/2023 13:52:52                MacOS                      2.3   \n",
       "\n",
       "    CPU Number of Cores (int)  RAM (in GB)  Hard Drive Size (in GB)  \\\n",
       "0                           8           16                      935   \n",
       "1                           2            8                      250   \n",
       "2                           8            8                      256   \n",
       "3                          12           32                     1000   \n",
       "4                           8           16                      500   \n",
       "..                        ...          ...                      ...   \n",
       "57                          2            8                      237   \n",
       "58                          2            8                      256   \n",
       "59                          2            8                      500   \n",
       "60                          5            8                      224   \n",
       "61                          2            8                      250   \n",
       "\n",
       "                  GPU (short description as a string)  \\\n",
       "0           NVIDIA GeForce RTX 2060 with Max-Q Design   \n",
       "1                            Intel Iris Plus Graphics   \n",
       "2                                                  M1   \n",
       "3                                              M2 Max   \n",
       "4               NVIDIA GeForce RTX 3050 Ti Laptop GPU   \n",
       "..                                                ...   \n",
       "57                           Intel(R) HD Graphics 620   \n",
       "58  M2 integrates an Apple designed ten-core (eigh...   \n",
       "59                                Integrated Graphics   \n",
       "60             Zero point two out of three point nine   \n",
       "61                       Intel Iris Plus Graphics 640   \n",
       "\n",
       "    GPU CUDA Number of Cores (int)  \n",
       "0                             5888  \n",
       "1                                1  \n",
       "2                                8  \n",
       "3                               38  \n",
       "4                             2560  \n",
       "..                             ...  \n",
       "57                               0  \n",
       "58                               0  \n",
       "59                               0  \n",
       "60                               5  \n",
       "61                               0  \n",
       "\n",
       "[62 rows x 8 columns]"
      ]
     },
     "metadata": {},
     "output_type": "display_data"
    }
   ],
   "source": [
    "data = pd.read_csv('2023-06-13-survey.csv', sep = ',', header = 0)\n",
    "display(data)"
   ]
  },
  {
   "cell_type": "code",
   "execution_count": 38,
   "metadata": {},
   "outputs": [
    {
     "data": {
      "image/png": "[encoded data removed]",
      "text/plain": [
       "<Figure size 432x288 with 1 Axes>"
      ]
     },
     "metadata": {
      "needs_background": "light"
     },
     "output_type": "display_data"
    }
   ],
   "source": [
    "data['Hard Drive Size (in GB)'].plot(kind = 'hist', bins = 20)\n",
    "plt.ylabel('Num')\n",
    "plt.xlabel('Hard Drive Size')\n",
    "\n",
    "plt.show()"
   ]
  },
  {
   "cell_type": "code",
   "execution_count": null,
   "metadata": {},
   "outputs": [],
   "source": []
  }
 ],
 "metadata": {
  "kernelspec": {
   "display_name": "Python 3",
   "language": "python",
   "name": "python3"
  },
  "language_info": {
   "codemirror_mode": {
    "name": "ipython",
    "version": 3
   },
   "file_extension": ".py",
   "mimetype": "text/x-python",
   "name": "python",
   "nbconvert_exporter": "python",
   "pygments_lexer": "ipython3",
   "version": "3.8.5"
  }
 },
 "nbformat": 4,
 "nbformat_minor": 4
}
